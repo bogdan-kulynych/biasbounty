{
 "cells": [
  {
   "cell_type": "code",
   "execution_count": 40,
   "id": "51b15e25",
   "metadata": {},
   "outputs": [],
   "source": [
    "rel_train_data_path = \"../data/train\"\n",
    "rel_test_data_path = \"../data/test\"\n",
    "rel_model_path = \"../models\"\n",
    "\n",
    "tasks = [\"skin_tone\", \"gender\", \"age\"]\n",
    "img_size = 160\n",
    "batch_size = 4\n",
    "model_type = \"dummy\"  # vggface2"
   ]
  },
  {
   "cell_type": "code",
   "execution_count": 41,
   "id": "f153b525",
   "metadata": {},
   "outputs": [
    {
     "name": "stdout",
     "output_type": "stream",
     "text": [
      "The autoreload extension is already loaded. To reload it, use:\n",
      "  %reload_ext autoreload\n"
     ]
    }
   ],
   "source": [
    "%load_ext autoreload\n",
    "%autoreload 2"
   ]
  },
  {
   "cell_type": "code",
   "execution_count": 42,
   "id": "272bebcf",
   "metadata": {},
   "outputs": [],
   "source": [
    "import os\n",
    "import json\n",
    "import pathlib\n",
    "import functools\n",
    "\n",
    "import numpy as np\n",
    "import pandas as pd\n",
    "\n",
    "import tqdm\n",
    "import torch\n",
    "import sklearn\n",
    "\n",
    "from torch import nn\n",
    "\n",
    "from sklearn.model_selection import train_test_split\n",
    "from sklearn.metrics import accuracy_score, confusion_matrix\n",
    "from facenet_pytorch import MTCNN, InceptionResnetV1\n",
    "from facenet_pytorch import InceptionResnetV1"
   ]
  },
  {
   "cell_type": "code",
   "execution_count": 43,
   "id": "8f1a40fb",
   "metadata": {},
   "outputs": [],
   "source": [
    "from model_tools import get_torch_model, ModelTaskSet\n",
    "from data_tools import MyDataset, get_labels, get_loaders"
   ]
  },
  {
   "cell_type": "code",
   "execution_count": 44,
   "id": "c0e28166",
   "metadata": {},
   "outputs": [],
   "source": [
    "TRAIN_DATA_PATH = pathlib.Path.cwd() / rel_train_data_path\n",
    "TEST_DATA_PATH = pathlib.Path.cwd() / rel_test_data_path\n",
    "MODEL_PATH = pathlib.Path.cwd() / rel_model_path"
   ]
  },
  {
   "cell_type": "code",
   "execution_count": 45,
   "id": "9848bd84",
   "metadata": {
    "lines_to_next_cell": 2
   },
   "outputs": [
    {
     "name": "stdout",
     "output_type": "stream",
     "text": [
      "Classes: {'skin_tone': 10, 'gender': 2, 'age': 4}\n"
     ]
    }
   ],
   "source": [
    "train_data = pd.read_csv(TRAIN_DATA_PATH / \"labels.csv\").dropna()\n",
    "test_data = pd.read_csv(TEST_DATA_PATH / \"labels.csv\").dropna()\n",
    "\n",
    "train_labels_by_task = get_labels(train_data, tasks)\n",
    "test_labels_by_task = get_labels(test_data, tasks)\n",
    "\n",
    "num_classes_by_task = {\n",
    "    task: train_labels_by_task[task].shape[1] for task in tasks\n",
    "}\n",
    "print(f\"Classes: {num_classes_by_task}\")"
   ]
  },
  {
   "cell_type": "code",
   "execution_count": 48,
   "id": "89c680e1",
   "metadata": {},
   "outputs": [
    {
     "name": "stdout",
     "output_type": "stream",
     "text": [
      "Creating data loader for skin_tone\n",
      "X.shape=(30, 3, 256, 256) y.shape=(30, 10)\n",
      "Creating data loader for gender\n",
      "X.shape=(30, 3, 256, 256) y.shape=(30, 2)\n",
      "Creating data loader for age\n",
      "X.shape=(30, 3, 256, 256) y.shape=(30, 4)\n"
     ]
    },
    {
     "name": "stderr",
     "output_type": "stream",
     "text": [
      "libpng warning: iCCP: known incorrect sRGB profile\n",
      "libpng warning: iCCP: known incorrect sRGB profile\n",
      "libpng warning: iCCP: known incorrect sRGB profile\n",
      "libpng warning: iCCP: known incorrect sRGB profile\n",
      "libpng warning: iCCP: known incorrect sRGB profile\n",
      "libpng warning: iCCP: known incorrect sRGB profile\n"
     ]
    }
   ],
   "source": [
    "train_data = train_data.iloc[:30]\n",
    "\n",
    "train_loaders = get_loaders(TRAIN_DATA_PATH, train_data, train_labels_by_task,\n",
    "                            img_size=img_size, batch_size=batch_size)\n",
    "# test_loaders = get_loaders(TEST_DATA_PATH, test_data, test_labels_by_task,\n",
    "#                            img_size=img_size, batch_size=batch_size)"
   ]
  },
  {
   "cell_type": "code",
   "execution_count": 49,
   "id": "d91659ef",
   "metadata": {},
   "outputs": [],
   "source": [
    "def train_func(model_func, data_loader):\n",
    "    model = model_func()\n",
    "    optimizer = torch.optim.SGD(\n",
    "        model.parameters(),\n",
    "        lr=0.001,\n",
    "        momentum=0.9,\n",
    "        weight_decay=0.0\n",
    "    )\n",
    "\n",
    "    criterion = torch.nn.CrossEntropyLoss()\n",
    "    model.train()\n",
    "    for batch_idx, (data, target_onehot) in enumerate(data_loader):\n",
    "        output = model(data)\n",
    "        target = torch.argmax(target_onehot, dim=1)\n",
    "        loss = criterion(output, target)\n",
    "        # compute gradient and do SGD step\n",
    "        optimizer.zero_grad()\n",
    "        loss.backward()\n",
    "        optimizer.step()\n",
    "        if batch_idx % 10 == 0:\n",
    "            print(\"batch={}, loss={}\".format(batch_idx, loss.item()))\n",
    "            \n",
    "    return model"
   ]
  },
  {
   "cell_type": "code",
   "execution_count": 50,
   "id": "617f3f6c",
   "metadata": {},
   "outputs": [],
   "source": [
    "model_func_by_task = {}\n",
    "for task in tasks:\n",
    "    model_func_by_task[task] = functools.partial(\n",
    "        get_torch_model, model_type=model_type, num_classes=num_classes_by_task[task]\n",
    "    )\n",
    "\n",
    "    \n",
    "model_set = ModelTaskSet(\n",
    "    model_path=MODEL_PATH,\n",
    "    model_func_by_task=model_func_by_task,\n",
    ")"
   ]
  },
  {
   "cell_type": "code",
   "execution_count": 52,
   "id": "9ce503bd",
   "metadata": {},
   "outputs": [
    {
     "name": "stdout",
     "output_type": "stream",
     "text": [
      "Training skin_tone\n",
      "batch=0, loss=2.2970962524414062\n",
      "Training gender\n",
      "batch=0, loss=0.6806892156600952\n",
      "Training age\n",
      "batch=0, loss=1.363635778427124\n"
     ]
    }
   ],
   "source": [
    "for task in tasks:\n",
    "    print(f\"Training {task}\")\n",
    "    model_set.fit_task(\n",
    "        task_name=task,\n",
    "        train_func=train_func,\n",
    "        data_loader=train_loaders[task]\n",
    "    )"
   ]
  },
  {
   "cell_type": "code",
   "execution_count": 53,
   "id": "257e9e58",
   "metadata": {},
   "outputs": [
    {
     "name": "stdout",
     "output_type": "stream",
     "text": [
      "Saving /home/bogdan/Workspace/biasbounty/src/../models/skin_tone.pth\n",
      "Saving /home/bogdan/Workspace/biasbounty/src/../models/gender.pth\n",
      "Saving /home/bogdan/Workspace/biasbounty/src/../models/age.pth\n"
     ]
    }
   ],
   "source": [
    "model_set.save()"
   ]
  }
 ],
 "metadata": {
  "jupytext": {
   "cell_metadata_filter": "-all",
   "main_language": "python",
   "notebook_metadata_filter": "-all"
  },
  "kernelspec": {
   "display_name": "Python 3 (ipykernel)",
   "language": "python",
   "name": "python3"
  },
  "language_info": {
   "codemirror_mode": {
    "name": "ipython",
    "version": 3
   },
   "file_extension": ".py",
   "mimetype": "text/x-python",
   "name": "python",
   "nbconvert_exporter": "python",
   "pygments_lexer": "ipython3",
   "version": "3.10.6"
  }
 },
 "nbformat": 4,
 "nbformat_minor": 5
}
